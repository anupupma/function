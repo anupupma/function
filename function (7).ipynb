{
  "nbformat": 4,
  "nbformat_minor": 0,
  "metadata": {
    "colab": {
      "provenance": []
    },
    "kernelspec": {
      "name": "python3",
      "display_name": "Python 3"
    },
    "language_info": {
      "name": "python"
    }
  },
  "cells": [
    {
      "cell_type": "markdown",
      "source": [
        "assigment module-2 only answer no. wise\n",
        "1.>Python is a versatile, high-level programming language known for its readability and ease of use, making it popular for a wide range of applications, including web development, data analysis, machine learning, and automation. Its simplicity, extensive libraries, and large community contribute to its widespread adoption.\n",
        "Why Python is Popular:\n",
        "Readability and Simplicity:\n",
        "Python's syntax is designed to be clear and easy to understand, resembling natural language, which makes it beginner-friendly and facilitates rapid development.\n",
        "Versatility:\n",
        "Python can be used for various tasks, including web development (using frameworks like Django and Flask), data analysis (with libraries like Pandas and NumPy), machine learning (with TensorFlow and PyTorch), and automation.\n",
        "Extensive Libraries:\n",
        "Python boasts a rich ecosystem of libraries and frameworks that simplify complex tasks, such as data manipulation, scientific computing, and machine learning.\n",
        "Large Community:\n",
        "A large and active community provides extensive support, documentation, and readily available resources, making it easier to learn and troubleshoot.\n",
        "Open Source:\n",
        "Python is free to use and distribute, even for commercial purposes, making it accessible to developers of all levels.  \n",
        "\n",
        "\n",
        "2.>In Python, an interpreter is a program that reads and executes Python code line by line. Unlike compilers, which translate the entire code into machine code beforehand, an interpreter translates and executes code sequentially, allowing for easier debugging and development.\n",
        "\n",
        "3.>In Python, predefined keywords are reserved words with specific meanings that cannot be used as variable, function, or class names. These keywords are fundamental to Python's syntax and are used for various purposes like controlling program flow, defining structures, and performing operations.\n",
        "Examples of Python keywords:\n",
        "True, False, None: Represent boolean values and the absence of a value.\n",
        "and, or, not: Logical operators.\n",
        "if, elif, else\n",
        "\n",
        "4.>No, you cannot use Python keywords as variable names. Keywords are reserved words with predefined meanings and are used by the Python interpreter to understand the structure and syntax of the code. Attempting to use a keyword as a variable name will result in a SyntaxError\n",
        "\n",
        "5.>In Python, mutability refers to an object's ability to be changed after it's created. If an object is mutable, its contents can be modified without creating a new object. Immutable objects, on the other hand, cannot be changed after creation, and any modification will result in a new object being created.\n",
        "\n",
        "6.>\n",
        "Tuples and lists are the same in every way except two: tuples use parentheses instead of square brackets, and the items in tuples cannot be modified (but the items in lists can be modified). We often call lists mutable (meaning they can be changed) and tuples immutable (meaning they cannot be changed).\n",
        "\n",
        "7.>In Python, == checks for value equality (whether two objects have the same value), while is checks for object identity (whether two variables point to the same object in memory).\n",
        "\n",
        "8.>The logical operators in Python are and, or, and not. They are also known as Boolean operators. These operators allow you to combine and evaluate conditions, and make decisions in your programs.\n",
        "\n",
        "9.>In Python, typecasting (also called type conversion) is the process of converting a variable from one data type to another. It can be done explicitly by the programmer using functions like int(), float(), and str(), or implicitly by Python automatically during operations\n",
        "\n",
        "10.>In programming, implicit type casting, also known as widening conversion, happens automatically by the compiler when converting from a smaller data type to a larger one, without any data loss. Explicit type casting, or narrowing conversion, requires the programmer to manually specify the conversion, often involving potential data loss when converting from a larger data type to a smaller one.\n",
        "\n",
        "11.>Conditional statements in Python, like if, elif, and else, allow programs to make decisions and execute different code blocks based on whether a condition is true or false. This enables dynamic and responsive code that can handle various inputs and scenarios.\n",
        "\n",
        "12.>The “elif” keyword in Python, stands for “else if”. It can be used in conditional statements to check for multiple conditions. For example, if the first condition is false, it moves on to the next “elif” statement to check if that condition is true.\n",
        "\n",
        "13.>The primary difference between a for loop and a while loop lies in how they control the iteration process. A for loop is typically used when the number of iterations is known beforehand, often when iterating over a sequence like a list or array. A while loop, on the other hand, repeats a block of code as long as a condition is true, making it suitable for situations where the number of iterations is not predetermined.\n",
        "\n",
        "14.>In programming, for loops are best used when you know the number of iterations ahead of time, whereas a while loop is best used when you don't know the number of iterations in advance. Both methods can help you iterate through your code.\n"
      ],
      "metadata": {
        "id": "spTrwdReBULV"
      }
    },
    {
      "cell_type": "code",
      "execution_count": null,
      "metadata": {
        "collapsed": true,
        "id": "tsZZXDTBmyyr"
      },
      "outputs": [],
      "source": [
        "#1.> This program prints Hello, world!\n",
        "\n",
        "print('Hello, world!')\n",
        "\n",
        "# 2.> print name and age\n",
        "name=str(input(\"enter your name\"))\n",
        "age=int(input(\"enter your age\"))\n",
        "print(\"i,m \",name,\"and i,m\",age,\"year old\")\n"
      ]
    },
    {
      "cell_type": "code",
      "source": [
        "#3.>\n",
        "import keyword\n",
        "print(keyword.kwlist)"
      ],
      "metadata": {
        "id": "a16GNQkKSEgd"
      },
      "execution_count": null,
      "outputs": []
    },
    {
      "cell_type": "code",
      "source": [
        "#4.>\n",
        "import keyword\n",
        "\n",
        "def is_python_keyword(word):\n",
        "    \"\"\"\n",
        "    Checks if a given word is a Python keyword.\n",
        "\n",
        "    Args:\n",
        "        word: The word to check.\n",
        "\n",
        "    Returns:\n",
        "        True if the word is a Python keyword, False otherwise.\n",
        "    \"\"\"\n",
        "    return keyword.iskeyword(word)\n",
        "\n",
        "# Example usage\n",
        "word = \"if\"\n",
        "if is_python_keyword(word):\n",
        "    print(f\"'{word}' is a Python keyword.\")\n",
        "else:\n",
        "    print(f\"'{word}' is not a Python keyword.\")\n",
        "\n",
        "word = \"my_variable\"\n",
        "if is_python_keyword(word):\n",
        "    print(f\"'{word}' is a Python keyword.\")\n",
        "else:\n",
        "    print(f\"'{word}' is not a Python keyword.\")\n"
      ],
      "metadata": {
        "id": "TUVYYa0fTch8"
      },
      "execution_count": null,
      "outputs": []
    },
    {
      "cell_type": "code",
      "source": [
        "#7.>\n",
        "def perform_arithmetic_operations(num1, num2):\n",
        "  \"\"\"\n",
        "  Performs basic arithmetic operations on two numbers.\n",
        "\n",
        "  Args:\n",
        "    num1: The first number.\n",
        "    num2: The second number.\n",
        "\n",
        "  Returns:\n",
        "    A dictionary containing the results of the operations.\n",
        "  \"\"\"\n",
        "\n",
        "  addition = num1 + num2\n",
        "  subtraction = num1 - num2\n",
        "  multiplication = num1 * num2\n",
        "  division = num1 / num2  # Float division\n",
        "  floor_division = num1 // num2  # Integer division\n",
        "  remainder = num1 % num2\n",
        "  exponentiation = num1 ** num2\n",
        "\n",
        "  results = {\n",
        "      \"addition\": addition,\n",
        "      \"subtraction\": subtraction,\n",
        "      \"multiplication\": multiplication,\n",
        "      \"division\": division,\n",
        "      \"floor_division\": floor_division,\n",
        "      \"remainder\": remainder,\n",
        "      \"exponentiation\": exponentiation\n",
        "  }\n",
        "\n",
        "  return results\n",
        "\n",
        "\n",
        "# Get input from the user\n",
        "num1 = float(input(\"Enter the first number: \"))  # Allows for decimal numbers\n",
        "num2 = float(input(\"Enter the second number: \"))\n",
        "\n",
        "# Perform the operations\n",
        "operation_results = perform_arithmetic_operations(num1, num2)\n",
        "\n",
        "# Print the results\n",
        "print(\"\\nResults:\")\n",
        "for operation, result in operation_results.items():\n",
        "  print(f\"{operation.title()}: {result}\")"
      ],
      "metadata": {
        "id": "6BMdbynnUTpM"
      },
      "execution_count": null,
      "outputs": []
    },
    {
      "cell_type": "code",
      "source": [
        "#8.>\n",
        "# Logical Operators Demonstration\n",
        "\n",
        "a = int(input(\"Enter first number (a): \"))\n",
        "b = int(input(\"Enter second number (b): \"))\n",
        "\n",
        "# and operator\n",
        "if a > 0 and b > 0:\n",
        "    print(\"Both a and b are positive numbers.\")\n",
        "else:\n",
        "    print(\"At least one of the numbers is not positive.\")\n",
        "\n",
        "# or operator\n",
        "if a > 0 or b > 0:\n",
        "    print(\"At least one of the numbers is positive.\")\n",
        "else:\n",
        "    print(\"Neither a nor b is positive.\")\n",
        "\n",
        "# not operator\n",
        "is_a_negative = a < 0\n",
        "print(\"Is 'a' not negative?\", not is_a_negative)"
      ],
      "metadata": {
        "id": "VXQQTRxBVy2K"
      },
      "execution_count": null,
      "outputs": []
    },
    {
      "cell_type": "code",
      "source": [
        "#9.> Program to convert user input into int, float, and bool\n",
        "\n",
        "user_input = input(\"Enter a value: \")\n",
        "\n",
        "# Convert to integer\n",
        "try:\n",
        "    int_value = int(user_input)\n",
        "    print(\"Integer value:\", int_value)\n",
        "except ValueError:\n",
        "    print(\"Cannot convert to integer.\")\n",
        "\n",
        "# Convert to float\n",
        "try:\n",
        "    float_value = float(user_input)\n",
        "    print(\"Float value:\", float_value)\n",
        "except ValueError:\n",
        "    print(\"Cannot convert to float.\")\n",
        "\n",
        "# Convert to boolean\n",
        "# Any non-empty string except \"False\", \"false\", \"0\" is treated as True by default\n",
        "bool_value = user_input.lower() not in ['false', '0', '', 'none']\n",
        "print(\"Boolean value:\", bool_value)"
      ],
      "metadata": {
        "id": "BoCdUDSWWu7c"
      },
      "execution_count": null,
      "outputs": []
    },
    {
      "cell_type": "code",
      "source": [
        "#11.> Program to check if a number is positive, negative, or zero\n",
        "\n",
        "# Take input from user\n",
        "num = float(input(\"Enter a number: \"))\n",
        "\n",
        "# Check the number\n",
        "if num > 0:\n",
        "    print(\"The number is positive.\")\n",
        "elif num < 0:\n",
        "    print(\"The number is negative.\")\n",
        "else:\n",
        "    print(\"the number is zero.\")"
      ],
      "metadata": {
        "id": "JIwHbvfNXHTq"
      },
      "execution_count": null,
      "outputs": []
    },
    {
      "cell_type": "code",
      "source": [
        "#12.>\n",
        "for i in range(1,11):\n",
        "  print(i)"
      ],
      "metadata": {
        "id": "KqtoKnehXpyB"
      },
      "execution_count": null,
      "outputs": []
    },
    {
      "cell_type": "code",
      "source": [
        "#13..\n",
        "sum_even = 0\n",
        "for i in range(1, 51):\n",
        "    if i % 2 == 0:\n",
        "        sum_even += i\n",
        "print(\"Sum of even numbers from 1 to 50 is:\", sum_even)"
      ],
      "metadata": {
        "id": "-pRWrF8ZYJGS"
      },
      "execution_count": null,
      "outputs": []
    },
    {
      "cell_type": "markdown",
      "source": [
        "name....anup raj\n",
        "anuprajsinghdav@gmail.c0m"
      ],
      "metadata": {
        "id": "3SjEoOZ159a1"
      }
    }
  ]
}